{
 "cells": [
  {
   "cell_type": "code",
   "execution_count": 1,
   "id": "a63f5271",
   "metadata": {},
   "outputs": [
    {
     "name": "stdout",
     "output_type": "stream",
     "text": [
      "number of even numbers: 5\n",
      "number of odd numbers: 4\n"
     ]
    }
   ],
   "source": [
    "l=(1,2,3,4,5,6,7,8,9)\n",
    "n=len(l)\n",
    "counte=0\n",
    "counto=0\n",
    "for i in l:\n",
    "    if not i%2:\n",
    "        counto=counto+1\n",
    "    else:\n",
    "        counte=counte+1\n",
    "        \n",
    "print(\"number of even numbers:\",counte)\n",
    "print(\"number of odd numbers:\",counto)"
   ]
  },
  {
   "cell_type": "code",
   "execution_count": null,
   "id": "db301a31",
   "metadata": {},
   "outputs": [],
   "source": []
  }
 ],
 "metadata": {
  "kernelspec": {
   "display_name": "Python 3 (ipykernel)",
   "language": "python",
   "name": "python3"
  },
  "language_info": {
   "codemirror_mode": {
    "name": "ipython",
    "version": 3
   },
   "file_extension": ".py",
   "mimetype": "text/x-python",
   "name": "python",
   "nbconvert_exporter": "python",
   "pygments_lexer": "ipython3",
   "version": "3.10.3"
  }
 },
 "nbformat": 4,
 "nbformat_minor": 5
}
